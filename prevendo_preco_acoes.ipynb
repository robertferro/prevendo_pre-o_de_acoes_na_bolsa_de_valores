{
  "nbformat": 4,
  "nbformat_minor": 0,
  "metadata": {
    "kernelspec": {
      "display_name": "Python 3",
      "language": "python",
      "name": "python3"
    },
    "language_info": {
      "codemirror_mode": {
        "name": "ipython",
        "version": 3
      },
      "file_extension": ".py",
      "mimetype": "text/x-python",
      "name": "python",
      "nbconvert_exporter": "python",
      "pygments_lexer": "ipython3",
      "version": "3.8.3"
    },
    "colab": {
      "name": "prevendo_preco_acoes.ipynb",
      "provenance": []
    }
  },
  "cells": [
    {
      "cell_type": "code",
      "metadata": {
        "id": "A_KfNhBzmnII"
      },
      "source": [
        "import pandas as pd\n",
        "import numpy as np\n",
        "import matplotlib.pyplot as plt\n",
        "import seaborn as sns"
      ],
      "execution_count": 1,
      "outputs": []
    },
    {
      "cell_type": "code",
      "metadata": {
        "id": "fWSzvOFVmnIu"
      },
      "source": [
        "url='https://raw.githubusercontent.com/robertferro/prevendo_preco_de_acoes_na_bolsa_de_valores/main/bolsa_de_valores_2020.csv'"
      ],
      "execution_count": 2,
      "outputs": []
    },
    {
      "cell_type": "code",
      "metadata": {
        "id": "nZu8FZqrmnIw"
      },
      "source": [
        "dados=pd.read_csv(url, sep=',')"
      ],
      "execution_count": 3,
      "outputs": []
    },
    {
      "cell_type": "code",
      "metadata": {
        "colab": {
          "base_uri": "https://localhost:8080/",
          "height": 204
        },
        "id": "yxlnVFAmmnIw",
        "outputId": "39db973a-d218-4ab7-d0a9-261296822efa"
      },
      "source": [
        "dados.head()"
      ],
      "execution_count": 4,
      "outputs": [
        {
          "output_type": "execute_result",
          "data": {
            "text/html": [
              "<div>\n",
              "<style scoped>\n",
              "    .dataframe tbody tr th:only-of-type {\n",
              "        vertical-align: middle;\n",
              "    }\n",
              "\n",
              "    .dataframe tbody tr th {\n",
              "        vertical-align: top;\n",
              "    }\n",
              "\n",
              "    .dataframe thead th {\n",
              "        text-align: right;\n",
              "    }\n",
              "</style>\n",
              "<table border=\"1\" class=\"dataframe\">\n",
              "  <thead>\n",
              "    <tr style=\"text-align: right;\">\n",
              "      <th></th>\n",
              "      <th>data_do_pregao</th>\n",
              "      <th>sigla_acao</th>\n",
              "      <th>nome_acao</th>\n",
              "      <th>preco_abertura</th>\n",
              "      <th>preco_max</th>\n",
              "      <th>preco_min</th>\n",
              "      <th>preco_fechamento</th>\n",
              "      <th>qtde_negocio</th>\n",
              "      <th>volume_negocio</th>\n",
              "    </tr>\n",
              "  </thead>\n",
              "  <tbody>\n",
              "    <tr>\n",
              "      <th>0</th>\n",
              "      <td>2020-01-02</td>\n",
              "      <td>AALR3</td>\n",
              "      <td>ALLIAR</td>\n",
              "      <td>1829.0</td>\n",
              "      <td>1900.0</td>\n",
              "      <td>1828.0</td>\n",
              "      <td>1900.0</td>\n",
              "      <td>585800.0</td>\n",
              "      <td>1.094620e+09</td>\n",
              "    </tr>\n",
              "    <tr>\n",
              "      <th>1</th>\n",
              "      <td>2020-01-02</td>\n",
              "      <td>AAPL34</td>\n",
              "      <td>APPLE</td>\n",
              "      <td>12000.0</td>\n",
              "      <td>12134.0</td>\n",
              "      <td>12000.0</td>\n",
              "      <td>12134.0</td>\n",
              "      <td>12700.0</td>\n",
              "      <td>1.533380e+08</td>\n",
              "    </tr>\n",
              "    <tr>\n",
              "      <th>2</th>\n",
              "      <td>2020-01-02</td>\n",
              "      <td>ABCB4</td>\n",
              "      <td>ABC BRASIL</td>\n",
              "      <td>2000.0</td>\n",
              "      <td>2030.0</td>\n",
              "      <td>1982.0</td>\n",
              "      <td>2030.0</td>\n",
              "      <td>870400.0</td>\n",
              "      <td>1.745788e+09</td>\n",
              "    </tr>\n",
              "    <tr>\n",
              "      <th>3</th>\n",
              "      <td>2020-01-02</td>\n",
              "      <td>ABEV3</td>\n",
              "      <td>AMBEV S/A</td>\n",
              "      <td>1886.0</td>\n",
              "      <td>1925.0</td>\n",
              "      <td>1878.0</td>\n",
              "      <td>1920.0</td>\n",
              "      <td>16011300.0</td>\n",
              "      <td>3.062348e+10</td>\n",
              "    </tr>\n",
              "    <tr>\n",
              "      <th>4</th>\n",
              "      <td>2020-01-02</td>\n",
              "      <td>ADHM3</td>\n",
              "      <td>ADVANCED-DH</td>\n",
              "      <td>255.0</td>\n",
              "      <td>255.0</td>\n",
              "      <td>235.0</td>\n",
              "      <td>248.0</td>\n",
              "      <td>193400.0</td>\n",
              "      <td>4.719270e+07</td>\n",
              "    </tr>\n",
              "  </tbody>\n",
              "</table>\n",
              "</div>"
            ],
            "text/plain": [
              "  data_do_pregao sigla_acao  ... qtde_negocio  volume_negocio\n",
              "0     2020-01-02      AALR3  ...     585800.0    1.094620e+09\n",
              "1     2020-01-02     AAPL34  ...      12700.0    1.533380e+08\n",
              "2     2020-01-02      ABCB4  ...     870400.0    1.745788e+09\n",
              "3     2020-01-02      ABEV3  ...   16011300.0    3.062348e+10\n",
              "4     2020-01-02      ADHM3  ...     193400.0    4.719270e+07\n",
              "\n",
              "[5 rows x 9 columns]"
            ]
          },
          "metadata": {
            "tags": []
          },
          "execution_count": 4
        }
      ]
    },
    {
      "cell_type": "code",
      "metadata": {
        "colab": {
          "base_uri": "https://localhost:8080/"
        },
        "id": "HgbI22s6mnI2",
        "outputId": "fdef6c1b-5bf2-4a65-86c9-7fd7badfec3d"
      },
      "source": [
        "dados.info()"
      ],
      "execution_count": 5,
      "outputs": [
        {
          "output_type": "stream",
          "text": [
            "<class 'pandas.core.frame.DataFrame'>\n",
            "RangeIndex: 122226 entries, 0 to 122225\n",
            "Data columns (total 9 columns):\n",
            " #   Column            Non-Null Count   Dtype  \n",
            "---  ------            --------------   -----  \n",
            " 0   data_do_pregao    122226 non-null  object \n",
            " 1   sigla_acao        122226 non-null  object \n",
            " 2   nome_acao         122226 non-null  object \n",
            " 3   preco_abertura    122226 non-null  float64\n",
            " 4   preco_max         122226 non-null  float64\n",
            " 5   preco_min         122226 non-null  float64\n",
            " 6   preco_fechamento  122226 non-null  float64\n",
            " 7   qtde_negocio      122226 non-null  float64\n",
            " 8   volume_negocio    122226 non-null  float64\n",
            "dtypes: float64(6), object(3)\n",
            "memory usage: 8.4+ MB\n"
          ],
          "name": "stdout"
        }
      ]
    },
    {
      "cell_type": "markdown",
      "metadata": {
        "id": "ItummLgumnI4"
      },
      "source": [
        " - Convetendo a coluna data_pregao para formato datetime."
      ]
    },
    {
      "cell_type": "code",
      "metadata": {
        "id": "ViJPpdC_mnI5"
      },
      "source": [
        "dados['data_do_pregao'] = pd.to_datetime(dados['data_do_pregao'], format='%Y-%m-%d')"
      ],
      "execution_count": 6,
      "outputs": []
    },
    {
      "cell_type": "code",
      "metadata": {
        "colab": {
          "base_uri": "https://localhost:8080/"
        },
        "id": "Vhprvs6dmnI6",
        "outputId": "d77571d3-99d5-4c78-8713-9453a2534979"
      },
      "source": [
        "dados.info()"
      ],
      "execution_count": 7,
      "outputs": [
        {
          "output_type": "stream",
          "text": [
            "<class 'pandas.core.frame.DataFrame'>\n",
            "RangeIndex: 122226 entries, 0 to 122225\n",
            "Data columns (total 9 columns):\n",
            " #   Column            Non-Null Count   Dtype         \n",
            "---  ------            --------------   -----         \n",
            " 0   data_do_pregao    122226 non-null  datetime64[ns]\n",
            " 1   sigla_acao        122226 non-null  object        \n",
            " 2   nome_acao         122226 non-null  object        \n",
            " 3   preco_abertura    122226 non-null  float64       \n",
            " 4   preco_max         122226 non-null  float64       \n",
            " 5   preco_min         122226 non-null  float64       \n",
            " 6   preco_fechamento  122226 non-null  float64       \n",
            " 7   qtde_negocio      122226 non-null  float64       \n",
            " 8   volume_negocio    122226 non-null  float64       \n",
            "dtypes: datetime64[ns](1), float64(6), object(2)\n",
            "memory usage: 8.4+ MB\n"
          ],
          "name": "stdout"
        }
      ]
    },
    {
      "cell_type": "code",
      "metadata": {
        "colab": {
          "base_uri": "https://localhost:8080/",
          "height": 235
        },
        "id": "9jN8WVj2mnI7",
        "outputId": "79f96cae-5a8a-41b4-d3f9-15bdb1fc2d4f"
      },
      "source": [
        "dados.describe().T"
      ],
      "execution_count": 8,
      "outputs": [
        {
          "output_type": "execute_result",
          "data": {
            "text/html": [
              "<div>\n",
              "<style scoped>\n",
              "    .dataframe tbody tr th:only-of-type {\n",
              "        vertical-align: middle;\n",
              "    }\n",
              "\n",
              "    .dataframe tbody tr th {\n",
              "        vertical-align: top;\n",
              "    }\n",
              "\n",
              "    .dataframe thead th {\n",
              "        text-align: right;\n",
              "    }\n",
              "</style>\n",
              "<table border=\"1\" class=\"dataframe\">\n",
              "  <thead>\n",
              "    <tr style=\"text-align: right;\">\n",
              "      <th></th>\n",
              "      <th>count</th>\n",
              "      <th>mean</th>\n",
              "      <th>std</th>\n",
              "      <th>min</th>\n",
              "      <th>25%</th>\n",
              "      <th>50%</th>\n",
              "      <th>75%</th>\n",
              "      <th>max</th>\n",
              "    </tr>\n",
              "  </thead>\n",
              "  <tbody>\n",
              "    <tr>\n",
              "      <th>preco_abertura</th>\n",
              "      <td>122226.0</td>\n",
              "      <td>1.376233e+04</td>\n",
              "      <td>1.051776e+05</td>\n",
              "      <td>50.0</td>\n",
              "      <td>1159.0</td>\n",
              "      <td>2826.0</td>\n",
              "      <td>1.078000e+04</td>\n",
              "      <td>1.175770e+07</td>\n",
              "    </tr>\n",
              "    <tr>\n",
              "      <th>preco_max</th>\n",
              "      <td>122226.0</td>\n",
              "      <td>1.385747e+04</td>\n",
              "      <td>1.052867e+05</td>\n",
              "      <td>53.0</td>\n",
              "      <td>1189.0</td>\n",
              "      <td>2884.0</td>\n",
              "      <td>1.088800e+04</td>\n",
              "      <td>1.175770e+07</td>\n",
              "    </tr>\n",
              "    <tr>\n",
              "      <th>preco_min</th>\n",
              "      <td>122226.0</td>\n",
              "      <td>1.365987e+04</td>\n",
              "      <td>1.050547e+05</td>\n",
              "      <td>48.0</td>\n",
              "      <td>1124.0</td>\n",
              "      <td>2765.0</td>\n",
              "      <td>1.066800e+04</td>\n",
              "      <td>1.175770e+07</td>\n",
              "    </tr>\n",
              "    <tr>\n",
              "      <th>preco_fechamento</th>\n",
              "      <td>122226.0</td>\n",
              "      <td>1.376258e+04</td>\n",
              "      <td>1.051751e+05</td>\n",
              "      <td>48.0</td>\n",
              "      <td>1157.0</td>\n",
              "      <td>2824.0</td>\n",
              "      <td>1.078000e+04</td>\n",
              "      <td>1.175770e+07</td>\n",
              "    </tr>\n",
              "    <tr>\n",
              "      <th>qtde_negocio</th>\n",
              "      <td>122226.0</td>\n",
              "      <td>2.473601e+06</td>\n",
              "      <td>8.921807e+06</td>\n",
              "      <td>1.0</td>\n",
              "      <td>600.0</td>\n",
              "      <td>16700.0</td>\n",
              "      <td>1.361475e+06</td>\n",
              "      <td>3.085628e+08</td>\n",
              "    </tr>\n",
              "    <tr>\n",
              "      <th>volume_negocio</th>\n",
              "      <td>122226.0</td>\n",
              "      <td>5.152674e+09</td>\n",
              "      <td>2.596031e+10</td>\n",
              "      <td>873.0</td>\n",
              "      <td>4388822.5</td>\n",
              "      <td>55131925.0</td>\n",
              "      <td>2.218780e+09</td>\n",
              "      <td>4.298380e+12</td>\n",
              "    </tr>\n",
              "  </tbody>\n",
              "</table>\n",
              "</div>"
            ],
            "text/plain": [
              "                     count          mean  ...           75%           max\n",
              "preco_abertura    122226.0  1.376233e+04  ...  1.078000e+04  1.175770e+07\n",
              "preco_max         122226.0  1.385747e+04  ...  1.088800e+04  1.175770e+07\n",
              "preco_min         122226.0  1.365987e+04  ...  1.066800e+04  1.175770e+07\n",
              "preco_fechamento  122226.0  1.376258e+04  ...  1.078000e+04  1.175770e+07\n",
              "qtde_negocio      122226.0  2.473601e+06  ...  1.361475e+06  3.085628e+08\n",
              "volume_negocio    122226.0  5.152674e+09  ...  2.218780e+09  4.298380e+12\n",
              "\n",
              "[6 rows x 8 columns]"
            ]
          },
          "metadata": {
            "tags": []
          },
          "execution_count": 8
        }
      ]
    },
    {
      "cell_type": "markdown",
      "metadata": {
        "id": "D3B6WG9Lm8f3"
      },
      "source": [
        "- Verificando a existência de dados nulos."
      ]
    },
    {
      "cell_type": "code",
      "metadata": {
        "colab": {
          "base_uri": "https://localhost:8080/"
        },
        "id": "4STjifInmnI8",
        "outputId": "9948ee63-f211-4984-b951-c74703bb4daf"
      },
      "source": [
        "dados.isnull().sum()"
      ],
      "execution_count": 9,
      "outputs": [
        {
          "output_type": "execute_result",
          "data": {
            "text/plain": [
              "data_do_pregao      0\n",
              "sigla_acao          0\n",
              "nome_acao           0\n",
              "preco_abertura      0\n",
              "preco_max           0\n",
              "preco_min           0\n",
              "preco_fechamento    0\n",
              "qtde_negocio        0\n",
              "volume_negocio      0\n",
              "dtype: int64"
            ]
          },
          "metadata": {
            "tags": []
          },
          "execution_count": 9
        }
      ]
    },
    {
      "cell_type": "markdown",
      "metadata": {
        "id": "qD07w3ZsnFMH"
      },
      "source": [
        "- Obeservando a distibuição das ações."
      ]
    },
    {
      "cell_type": "code",
      "metadata": {
        "colab": {
          "base_uri": "https://localhost:8080/"
        },
        "id": "3DL-LFOGmnI9",
        "outputId": "873b96d2-49b5-4184-df35-bdc491bad8a7"
      },
      "source": [
        "dados.nome_acao.value_counts().head(30)"
      ],
      "execution_count": 10,
      "outputs": [
        {
          "output_type": "execute_result",
          "data": {
            "text/plain": [
              "TAESA           747\n",
              "KLABIN S/A      747\n",
              "SANTANDER BR    747\n",
              "BANCO INTER     747\n",
              "AES TIETE E     747\n",
              "SANEPAR         747\n",
              "ENERGISA        747\n",
              "ALUPAR          747\n",
              "SUL AMERICA     743\n",
              "BTGP BANCO      719\n",
              "UNIPAR          693\n",
              "CESP            596\n",
              "BANRISUL        565\n",
              "BRASKEM         538\n",
              "CRISTAL         537\n",
              "ELETROBRAS      536\n",
              "USIMINAS        534\n",
              "ALFA CONSORC    509\n",
              "COPEL           500\n",
              "ITAUSA          498\n",
              "GERDAU MET      498\n",
              "BANESTES        498\n",
              "TAURUS ARMAS    498\n",
              "GERDAU          498\n",
              "ITAUUNIBANCO    498\n",
              "RECRUSUL        498\n",
              "MARCOPOLO       498\n",
              "TRAN PAULIST    498\n",
              "LOJAS AMERIC    498\n",
              "PETROBRAS       498\n",
              "Name: nome_acao, dtype: int64"
            ]
          },
          "metadata": {
            "tags": []
          },
          "execution_count": 10
        }
      ]
    },
    {
      "cell_type": "markdown",
      "metadata": {
        "id": "23xamX4onh5Z"
      },
      "source": [
        "- Selecionando uma ação para fazer a previsão"
      ]
    },
    {
      "cell_type": "code",
      "metadata": {
        "id": "BMpMHI5t9ofT"
      },
      "source": [
        "dados_bradesco = dados.query('nome_acao == \"BRADESCO\"')"
      ],
      "execution_count": 11,
      "outputs": []
    },
    {
      "cell_type": "code",
      "metadata": {
        "colab": {
          "base_uri": "https://localhost:8080/"
        },
        "id": "coM0n_E9oyQa",
        "outputId": "51c12013-2288-4d92-eafa-4e6679874ed8"
      },
      "source": [
        "dados_bradesco.isnull().sum()"
      ],
      "execution_count": 12,
      "outputs": [
        {
          "output_type": "execute_result",
          "data": {
            "text/plain": [
              "data_do_pregao      0\n",
              "sigla_acao          0\n",
              "nome_acao           0\n",
              "preco_abertura      0\n",
              "preco_max           0\n",
              "preco_min           0\n",
              "preco_fechamento    0\n",
              "qtde_negocio        0\n",
              "volume_negocio      0\n",
              "dtype: int64"
            ]
          },
          "metadata": {
            "tags": []
          },
          "execution_count": 12
        }
      ]
    },
    {
      "cell_type": "code",
      "metadata": {
        "colab": {
          "base_uri": "https://localhost:8080/"
        },
        "id": "hZucaUcc-AGY",
        "outputId": "a01be921-21bd-4b81-8468-04f764c5b6f3"
      },
      "source": [
        "dados_bradesco.shape"
      ],
      "execution_count": 13,
      "outputs": [
        {
          "output_type": "execute_result",
          "data": {
            "text/plain": [
              "(498, 9)"
            ]
          },
          "metadata": {
            "tags": []
          },
          "execution_count": 13
        }
      ]
    },
    {
      "cell_type": "markdown",
      "metadata": {
        "id": "Q4MBBe9qpEw4"
      },
      "source": [
        "- Criando novas colunas referentes a médias móveis"
      ]
    },
    {
      "cell_type": "code",
      "metadata": {
        "colab": {
          "base_uri": "https://localhost:8080/"
        },
        "id": "pXCIpvTMo5bN",
        "outputId": "6ae8f29d-0f33-4d97-c5d1-c7051424076d"
      },
      "source": [
        "dados_bradesco['mm5d'] = dados_bradesco['preco_fechamento'].rolling(5).mean()\n",
        "dados_bradesco['mm21d'] = dados_bradesco['preco_fechamento'].rolling(21).mean()"
      ],
      "execution_count": 14,
      "outputs": [
        {
          "output_type": "stream",
          "text": [
            "/usr/local/lib/python3.7/dist-packages/ipykernel_launcher.py:1: SettingWithCopyWarning: \n",
            "A value is trying to be set on a copy of a slice from a DataFrame.\n",
            "Try using .loc[row_indexer,col_indexer] = value instead\n",
            "\n",
            "See the caveats in the documentation: https://pandas.pydata.org/pandas-docs/stable/user_guide/indexing.html#returning-a-view-versus-a-copy\n",
            "  \"\"\"Entry point for launching an IPython kernel.\n",
            "/usr/local/lib/python3.7/dist-packages/ipykernel_launcher.py:2: SettingWithCopyWarning: \n",
            "A value is trying to be set on a copy of a slice from a DataFrame.\n",
            "Try using .loc[row_indexer,col_indexer] = value instead\n",
            "\n",
            "See the caveats in the documentation: https://pandas.pydata.org/pandas-docs/stable/user_guide/indexing.html#returning-a-view-versus-a-copy\n",
            "  \n"
          ],
          "name": "stderr"
        }
      ]
    },
    {
      "cell_type": "code",
      "metadata": {
        "colab": {
          "base_uri": "https://localhost:8080/",
          "height": 297
        },
        "id": "veTa7q6bpaxT",
        "outputId": "60991f17-18cd-43f7-a491-a3ab72865fc6"
      },
      "source": [
        "dados_bradesco.head(8)"
      ],
      "execution_count": 15,
      "outputs": [
        {
          "output_type": "execute_result",
          "data": {
            "text/html": [
              "<div>\n",
              "<style scoped>\n",
              "    .dataframe tbody tr th:only-of-type {\n",
              "        vertical-align: middle;\n",
              "    }\n",
              "\n",
              "    .dataframe tbody tr th {\n",
              "        vertical-align: top;\n",
              "    }\n",
              "\n",
              "    .dataframe thead th {\n",
              "        text-align: right;\n",
              "    }\n",
              "</style>\n",
              "<table border=\"1\" class=\"dataframe\">\n",
              "  <thead>\n",
              "    <tr style=\"text-align: right;\">\n",
              "      <th></th>\n",
              "      <th>data_do_pregao</th>\n",
              "      <th>sigla_acao</th>\n",
              "      <th>nome_acao</th>\n",
              "      <th>preco_abertura</th>\n",
              "      <th>preco_max</th>\n",
              "      <th>preco_min</th>\n",
              "      <th>preco_fechamento</th>\n",
              "      <th>qtde_negocio</th>\n",
              "      <th>volume_negocio</th>\n",
              "      <th>mm5d</th>\n",
              "      <th>mm21d</th>\n",
              "    </tr>\n",
              "  </thead>\n",
              "  <tbody>\n",
              "    <tr>\n",
              "      <th>27</th>\n",
              "      <td>2020-01-02</td>\n",
              "      <td>BBDC3</td>\n",
              "      <td>BRADESCO</td>\n",
              "      <td>3434.0</td>\n",
              "      <td>3544.0</td>\n",
              "      <td>3415.0</td>\n",
              "      <td>3544.0</td>\n",
              "      <td>2820100.0</td>\n",
              "      <td>9.853884e+09</td>\n",
              "      <td>NaN</td>\n",
              "      <td>NaN</td>\n",
              "    </tr>\n",
              "    <tr>\n",
              "      <th>28</th>\n",
              "      <td>2020-01-02</td>\n",
              "      <td>BBDC4</td>\n",
              "      <td>BRADESCO</td>\n",
              "      <td>3653.0</td>\n",
              "      <td>3751.0</td>\n",
              "      <td>3620.0</td>\n",
              "      <td>3751.0</td>\n",
              "      <td>18806600.0</td>\n",
              "      <td>6.975213e+10</td>\n",
              "      <td>NaN</td>\n",
              "      <td>NaN</td>\n",
              "    </tr>\n",
              "    <tr>\n",
              "      <th>412</th>\n",
              "      <td>2020-01-03</td>\n",
              "      <td>BBDC3</td>\n",
              "      <td>BRADESCO</td>\n",
              "      <td>3494.0</td>\n",
              "      <td>3569.0</td>\n",
              "      <td>3476.0</td>\n",
              "      <td>3487.0</td>\n",
              "      <td>5540600.0</td>\n",
              "      <td>1.937744e+10</td>\n",
              "      <td>NaN</td>\n",
              "      <td>NaN</td>\n",
              "    </tr>\n",
              "    <tr>\n",
              "      <th>413</th>\n",
              "      <td>2020-01-03</td>\n",
              "      <td>BBDC4</td>\n",
              "      <td>BRADESCO</td>\n",
              "      <td>3690.0</td>\n",
              "      <td>3800.0</td>\n",
              "      <td>3688.0</td>\n",
              "      <td>3751.0</td>\n",
              "      <td>30051900.0</td>\n",
              "      <td>1.126960e+11</td>\n",
              "      <td>NaN</td>\n",
              "      <td>NaN</td>\n",
              "    </tr>\n",
              "    <tr>\n",
              "      <th>493</th>\n",
              "      <td>2020-01-06</td>\n",
              "      <td>BBDC3</td>\n",
              "      <td>BRADESCO</td>\n",
              "      <td>3456.0</td>\n",
              "      <td>3487.0</td>\n",
              "      <td>3395.0</td>\n",
              "      <td>3467.0</td>\n",
              "      <td>4845200.0</td>\n",
              "      <td>1.677044e+10</td>\n",
              "      <td>3600.0</td>\n",
              "      <td>NaN</td>\n",
              "    </tr>\n",
              "    <tr>\n",
              "      <th>494</th>\n",
              "      <td>2020-01-06</td>\n",
              "      <td>BBDC4</td>\n",
              "      <td>BRADESCO</td>\n",
              "      <td>3720.0</td>\n",
              "      <td>3728.0</td>\n",
              "      <td>3644.0</td>\n",
              "      <td>3684.0</td>\n",
              "      <td>25300900.0</td>\n",
              "      <td>9.327297e+10</td>\n",
              "      <td>3628.0</td>\n",
              "      <td>NaN</td>\n",
              "    </tr>\n",
              "    <tr>\n",
              "      <th>1457</th>\n",
              "      <td>2020-01-07</td>\n",
              "      <td>BBDC3</td>\n",
              "      <td>BRADESCO</td>\n",
              "      <td>3467.0</td>\n",
              "      <td>3479.0</td>\n",
              "      <td>3396.0</td>\n",
              "      <td>3408.0</td>\n",
              "      <td>1720400.0</td>\n",
              "      <td>5.877476e+09</td>\n",
              "      <td>3559.4</td>\n",
              "      <td>NaN</td>\n",
              "    </tr>\n",
              "    <tr>\n",
              "      <th>1458</th>\n",
              "      <td>2020-01-08</td>\n",
              "      <td>BBDC3</td>\n",
              "      <td>BRADESCO</td>\n",
              "      <td>3408.0</td>\n",
              "      <td>3435.0</td>\n",
              "      <td>3341.0</td>\n",
              "      <td>3356.0</td>\n",
              "      <td>2453100.0</td>\n",
              "      <td>8.279648e+09</td>\n",
              "      <td>3533.2</td>\n",
              "      <td>NaN</td>\n",
              "    </tr>\n",
              "  </tbody>\n",
              "</table>\n",
              "</div>"
            ],
            "text/plain": [
              "     data_do_pregao sigla_acao nome_acao  ...  volume_negocio    mm5d  mm21d\n",
              "27       2020-01-02      BBDC3  BRADESCO  ...    9.853884e+09     NaN    NaN\n",
              "28       2020-01-02      BBDC4  BRADESCO  ...    6.975213e+10     NaN    NaN\n",
              "412      2020-01-03      BBDC3  BRADESCO  ...    1.937744e+10     NaN    NaN\n",
              "413      2020-01-03      BBDC4  BRADESCO  ...    1.126960e+11     NaN    NaN\n",
              "493      2020-01-06      BBDC3  BRADESCO  ...    1.677044e+10  3600.0    NaN\n",
              "494      2020-01-06      BBDC4  BRADESCO  ...    9.327297e+10  3628.0    NaN\n",
              "1457     2020-01-07      BBDC3  BRADESCO  ...    5.877476e+09  3559.4    NaN\n",
              "1458     2020-01-08      BBDC3  BRADESCO  ...    8.279648e+09  3533.2    NaN\n",
              "\n",
              "[8 rows x 11 columns]"
            ]
          },
          "metadata": {
            "tags": []
          },
          "execution_count": 15
        }
      ]
    },
    {
      "cell_type": "markdown",
      "metadata": {
        "id": "_iEv3cQQy_hU"
      },
      "source": [
        " - Ajustando o preço de fechamento as features."
      ]
    },
    {
      "cell_type": "code",
      "metadata": {
        "colab": {
          "base_uri": "https://localhost:8080/",
          "height": 306
        },
        "id": "6_NQxGw4pe6V",
        "outputId": "0a92515d-33d1-4508-9f02-f7655a7a5854"
      },
      "source": [
        "dados_bradesco['preco_fechamento'] = dados_bradesco['preco_fechamento'].shift(-1)\n",
        "dados_bradesco.head()"
      ],
      "execution_count": 16,
      "outputs": [
        {
          "output_type": "stream",
          "text": [
            "/usr/local/lib/python3.7/dist-packages/ipykernel_launcher.py:1: SettingWithCopyWarning: \n",
            "A value is trying to be set on a copy of a slice from a DataFrame.\n",
            "Try using .loc[row_indexer,col_indexer] = value instead\n",
            "\n",
            "See the caveats in the documentation: https://pandas.pydata.org/pandas-docs/stable/user_guide/indexing.html#returning-a-view-versus-a-copy\n",
            "  \"\"\"Entry point for launching an IPython kernel.\n"
          ],
          "name": "stderr"
        },
        {
          "output_type": "execute_result",
          "data": {
            "text/html": [
              "<div>\n",
              "<style scoped>\n",
              "    .dataframe tbody tr th:only-of-type {\n",
              "        vertical-align: middle;\n",
              "    }\n",
              "\n",
              "    .dataframe tbody tr th {\n",
              "        vertical-align: top;\n",
              "    }\n",
              "\n",
              "    .dataframe thead th {\n",
              "        text-align: right;\n",
              "    }\n",
              "</style>\n",
              "<table border=\"1\" class=\"dataframe\">\n",
              "  <thead>\n",
              "    <tr style=\"text-align: right;\">\n",
              "      <th></th>\n",
              "      <th>data_do_pregao</th>\n",
              "      <th>sigla_acao</th>\n",
              "      <th>nome_acao</th>\n",
              "      <th>preco_abertura</th>\n",
              "      <th>preco_max</th>\n",
              "      <th>preco_min</th>\n",
              "      <th>preco_fechamento</th>\n",
              "      <th>qtde_negocio</th>\n",
              "      <th>volume_negocio</th>\n",
              "      <th>mm5d</th>\n",
              "      <th>mm21d</th>\n",
              "    </tr>\n",
              "  </thead>\n",
              "  <tbody>\n",
              "    <tr>\n",
              "      <th>27</th>\n",
              "      <td>2020-01-02</td>\n",
              "      <td>BBDC3</td>\n",
              "      <td>BRADESCO</td>\n",
              "      <td>3434.0</td>\n",
              "      <td>3544.0</td>\n",
              "      <td>3415.0</td>\n",
              "      <td>3751.0</td>\n",
              "      <td>2820100.0</td>\n",
              "      <td>9.853884e+09</td>\n",
              "      <td>NaN</td>\n",
              "      <td>NaN</td>\n",
              "    </tr>\n",
              "    <tr>\n",
              "      <th>28</th>\n",
              "      <td>2020-01-02</td>\n",
              "      <td>BBDC4</td>\n",
              "      <td>BRADESCO</td>\n",
              "      <td>3653.0</td>\n",
              "      <td>3751.0</td>\n",
              "      <td>3620.0</td>\n",
              "      <td>3487.0</td>\n",
              "      <td>18806600.0</td>\n",
              "      <td>6.975213e+10</td>\n",
              "      <td>NaN</td>\n",
              "      <td>NaN</td>\n",
              "    </tr>\n",
              "    <tr>\n",
              "      <th>412</th>\n",
              "      <td>2020-01-03</td>\n",
              "      <td>BBDC3</td>\n",
              "      <td>BRADESCO</td>\n",
              "      <td>3494.0</td>\n",
              "      <td>3569.0</td>\n",
              "      <td>3476.0</td>\n",
              "      <td>3751.0</td>\n",
              "      <td>5540600.0</td>\n",
              "      <td>1.937744e+10</td>\n",
              "      <td>NaN</td>\n",
              "      <td>NaN</td>\n",
              "    </tr>\n",
              "    <tr>\n",
              "      <th>413</th>\n",
              "      <td>2020-01-03</td>\n",
              "      <td>BBDC4</td>\n",
              "      <td>BRADESCO</td>\n",
              "      <td>3690.0</td>\n",
              "      <td>3800.0</td>\n",
              "      <td>3688.0</td>\n",
              "      <td>3467.0</td>\n",
              "      <td>30051900.0</td>\n",
              "      <td>1.126960e+11</td>\n",
              "      <td>NaN</td>\n",
              "      <td>NaN</td>\n",
              "    </tr>\n",
              "    <tr>\n",
              "      <th>493</th>\n",
              "      <td>2020-01-06</td>\n",
              "      <td>BBDC3</td>\n",
              "      <td>BRADESCO</td>\n",
              "      <td>3456.0</td>\n",
              "      <td>3487.0</td>\n",
              "      <td>3395.0</td>\n",
              "      <td>3684.0</td>\n",
              "      <td>4845200.0</td>\n",
              "      <td>1.677044e+10</td>\n",
              "      <td>3600.0</td>\n",
              "      <td>NaN</td>\n",
              "    </tr>\n",
              "  </tbody>\n",
              "</table>\n",
              "</div>"
            ],
            "text/plain": [
              "    data_do_pregao sigla_acao nome_acao  ...  volume_negocio    mm5d  mm21d\n",
              "27      2020-01-02      BBDC3  BRADESCO  ...    9.853884e+09     NaN    NaN\n",
              "28      2020-01-02      BBDC4  BRADESCO  ...    6.975213e+10     NaN    NaN\n",
              "412     2020-01-03      BBDC3  BRADESCO  ...    1.937744e+10     NaN    NaN\n",
              "413     2020-01-03      BBDC4  BRADESCO  ...    1.126960e+11     NaN    NaN\n",
              "493     2020-01-06      BBDC3  BRADESCO  ...    1.677044e+10  3600.0    NaN\n",
              "\n",
              "[5 rows x 11 columns]"
            ]
          },
          "metadata": {
            "tags": []
          },
          "execution_count": 16
        }
      ]
    },
    {
      "cell_type": "code",
      "metadata": {
        "id": "y_A8zfQ-vzJu"
      },
      "source": [
        "dados_bradesco = dados_bradesco.dropna()"
      ],
      "execution_count": 17,
      "outputs": []
    },
    {
      "cell_type": "code",
      "metadata": {
        "colab": {
          "base_uri": "https://localhost:8080/"
        },
        "id": "wG709sjk0gl1",
        "outputId": "9be6d963-80b3-4f2b-d03b-2404434dcba2"
      },
      "source": [
        "dados_bradesco.shape"
      ],
      "execution_count": 18,
      "outputs": [
        {
          "output_type": "execute_result",
          "data": {
            "text/plain": [
              "(477, 11)"
            ]
          },
          "metadata": {
            "tags": []
          },
          "execution_count": 18
        }
      ]
    },
    {
      "cell_type": "code",
      "metadata": {
        "id": "H-UlxhC51dE-"
      },
      "source": [
        "dados_bradesco = dados_bradesco.reset_index(drop=True)"
      ],
      "execution_count": 19,
      "outputs": []
    },
    {
      "cell_type": "code",
      "metadata": {
        "colab": {
          "base_uri": "https://localhost:8080/",
          "height": 204
        },
        "id": "C2l6AZqn0jYB",
        "outputId": "084b6f24-f80f-4ade-e401-9cfa0de5c04f"
      },
      "source": [
        "dados_bradesco.head()"
      ],
      "execution_count": 20,
      "outputs": [
        {
          "output_type": "execute_result",
          "data": {
            "text/html": [
              "<div>\n",
              "<style scoped>\n",
              "    .dataframe tbody tr th:only-of-type {\n",
              "        vertical-align: middle;\n",
              "    }\n",
              "\n",
              "    .dataframe tbody tr th {\n",
              "        vertical-align: top;\n",
              "    }\n",
              "\n",
              "    .dataframe thead th {\n",
              "        text-align: right;\n",
              "    }\n",
              "</style>\n",
              "<table border=\"1\" class=\"dataframe\">\n",
              "  <thead>\n",
              "    <tr style=\"text-align: right;\">\n",
              "      <th></th>\n",
              "      <th>data_do_pregao</th>\n",
              "      <th>sigla_acao</th>\n",
              "      <th>nome_acao</th>\n",
              "      <th>preco_abertura</th>\n",
              "      <th>preco_max</th>\n",
              "      <th>preco_min</th>\n",
              "      <th>preco_fechamento</th>\n",
              "      <th>qtde_negocio</th>\n",
              "      <th>volume_negocio</th>\n",
              "      <th>mm5d</th>\n",
              "      <th>mm21d</th>\n",
              "    </tr>\n",
              "  </thead>\n",
              "  <tbody>\n",
              "    <tr>\n",
              "      <th>0</th>\n",
              "      <td>2020-01-20</td>\n",
              "      <td>BBDC3</td>\n",
              "      <td>BRADESCO</td>\n",
              "      <td>3360.0</td>\n",
              "      <td>3360.0</td>\n",
              "      <td>3298.0</td>\n",
              "      <td>3191.0</td>\n",
              "      <td>1128100.0</td>\n",
              "      <td>3.734259e+09</td>\n",
              "      <td>3300.2</td>\n",
              "      <td>3450.285714</td>\n",
              "    </tr>\n",
              "    <tr>\n",
              "      <th>1</th>\n",
              "      <td>2020-01-21</td>\n",
              "      <td>BBDC3</td>\n",
              "      <td>BRADESCO</td>\n",
              "      <td>3300.0</td>\n",
              "      <td>3300.0</td>\n",
              "      <td>3191.0</td>\n",
              "      <td>3218.0</td>\n",
              "      <td>2875500.0</td>\n",
              "      <td>9.312917e+09</td>\n",
              "      <td>3276.0</td>\n",
              "      <td>3433.476190</td>\n",
              "    </tr>\n",
              "    <tr>\n",
              "      <th>2</th>\n",
              "      <td>2020-01-22</td>\n",
              "      <td>BBDC3</td>\n",
              "      <td>BRADESCO</td>\n",
              "      <td>3228.0</td>\n",
              "      <td>3248.0</td>\n",
              "      <td>3181.0</td>\n",
              "      <td>3305.0</td>\n",
              "      <td>1564600.0</td>\n",
              "      <td>5.015796e+09</td>\n",
              "      <td>3272.4</td>\n",
              "      <td>3408.095238</td>\n",
              "    </tr>\n",
              "    <tr>\n",
              "      <th>3</th>\n",
              "      <td>2020-01-23</td>\n",
              "      <td>BBDC3</td>\n",
              "      <td>BRADESCO</td>\n",
              "      <td>3195.0</td>\n",
              "      <td>3320.0</td>\n",
              "      <td>3174.0</td>\n",
              "      <td>3476.0</td>\n",
              "      <td>3087800.0</td>\n",
              "      <td>1.010583e+10</td>\n",
              "      <td>3275.6</td>\n",
              "      <td>3399.428571</td>\n",
              "    </tr>\n",
              "    <tr>\n",
              "      <th>4</th>\n",
              "      <td>2020-01-14</td>\n",
              "      <td>BBDC4</td>\n",
              "      <td>BRADESCO</td>\n",
              "      <td>3483.0</td>\n",
              "      <td>3485.0</td>\n",
              "      <td>3434.0</td>\n",
              "      <td>3415.0</td>\n",
              "      <td>14231300.0</td>\n",
              "      <td>4.919169e+10</td>\n",
              "      <td>3299.2</td>\n",
              "      <td>3386.333333</td>\n",
              "    </tr>\n",
              "  </tbody>\n",
              "</table>\n",
              "</div>"
            ],
            "text/plain": [
              "  data_do_pregao sigla_acao nome_acao  ...  volume_negocio    mm5d        mm21d\n",
              "0     2020-01-20      BBDC3  BRADESCO  ...    3.734259e+09  3300.2  3450.285714\n",
              "1     2020-01-21      BBDC3  BRADESCO  ...    9.312917e+09  3276.0  3433.476190\n",
              "2     2020-01-22      BBDC3  BRADESCO  ...    5.015796e+09  3272.4  3408.095238\n",
              "3     2020-01-23      BBDC3  BRADESCO  ...    1.010583e+10  3275.6  3399.428571\n",
              "4     2020-01-14      BBDC4  BRADESCO  ...    4.919169e+10  3299.2  3386.333333\n",
              "\n",
              "[5 rows x 11 columns]"
            ]
          },
          "metadata": {
            "tags": []
          },
          "execution_count": 20
        }
      ]
    },
    {
      "cell_type": "code",
      "metadata": {
        "id": "DCHBoyQKzHID"
      },
      "source": [
        "dados_bradesco = dados_bradesco.set_index('data_do_pregao')"
      ],
      "execution_count": 21,
      "outputs": []
    },
    {
      "cell_type": "markdown",
      "metadata": {
        "id": "oKhNYDNgeTfX"
      },
      "source": [
        "## Selecionando as colunaspara a modelagem."
      ]
    },
    {
      "cell_type": "code",
      "metadata": {
        "id": "qt5KjFe5eOVa"
      },
      "source": [
        "dados_ml = dados_bradesco.drop(columns = ['sigla_acao','nome_acao'])"
      ],
      "execution_count": 22,
      "outputs": []
    },
    {
      "cell_type": "markdown",
      "metadata": {
        "id": "Kos6uPb7eQUe"
      },
      "source": [
        " - Normalizando os dados"
      ]
    },
    {
      "cell_type": "code",
      "metadata": {
        "colab": {
          "base_uri": "https://localhost:8080/",
          "height": 669
        },
        "id": "__EetpQAcIQD",
        "outputId": "520de439-e155-41e5-e7aa-d755976a3db0"
      },
      "source": [
        "dados_ml.hist(figsize=(14,8))"
      ],
      "execution_count": 23,
      "outputs": [
        {
          "output_type": "execute_result",
          "data": {
            "text/plain": [
              "array([[<matplotlib.axes._subplots.AxesSubplot object at 0x7f7823549910>,\n",
              "        <matplotlib.axes._subplots.AxesSubplot object at 0x7f783840a350>,\n",
              "        <matplotlib.axes._subplots.AxesSubplot object at 0x7f78234e6350>],\n",
              "       [<matplotlib.axes._subplots.AxesSubplot object at 0x7f782349b950>,\n",
              "        <matplotlib.axes._subplots.AxesSubplot object at 0x7f7823450d90>,\n",
              "        <matplotlib.axes._subplots.AxesSubplot object at 0x7f7823413650>],\n",
              "       [<matplotlib.axes._subplots.AxesSubplot object at 0x7f78233c8d50>,\n",
              "        <matplotlib.axes._subplots.AxesSubplot object at 0x7f782338c350>,\n",
              "        <matplotlib.axes._subplots.AxesSubplot object at 0x7f782338c390>]],\n",
              "      dtype=object)"
            ]
          },
          "metadata": {
            "tags": []
          },
          "execution_count": 23
        },
        {
          "output_type": "display_data",
          "data": {
            "image/png": "[encoded data removed]",
            "text/plain": [
              "<Figure size 1008x576 with 9 Axes>"
            ]
          },
          "metadata": {
            "tags": [],
            "needs_background": "light"
          }
        }
      ]
    },
    {
      "cell_type": "code",
      "metadata": {
        "colab": {
          "base_uri": "https://localhost:8080/"
        },
        "id": "16-MBGGSeZzF",
        "outputId": "a6187f87-6018-400b-c4a6-af52df1c4215"
      },
      "source": [
        "dados_ml.columns"
      ],
      "execution_count": 24,
      "outputs": [
        {
          "output_type": "execute_result",
          "data": {
            "text/plain": [
              "Index(['preco_abertura', 'preco_max', 'preco_min', 'preco_fechamento',\n",
              "       'qtde_negocio', 'volume_negocio', 'mm5d', 'mm21d'],\n",
              "      dtype='object')"
            ]
          },
          "metadata": {
            "tags": []
          },
          "execution_count": 24
        }
      ]
    },
    {
      "cell_type": "code",
      "metadata": {
        "id": "NFOu0YtueZ7F"
      },
      "source": [
        "# dados_ml['preco_abertura'] = dados_ml['preco_abertura'].apply(np.log1p)\n",
        "# dados_ml['preco_max'] = dados_ml['preco_max'].apply(np.log1p)\n",
        "# dados_ml['preco_min'] = dados_ml['preco_min'].apply(np.log1p)\n",
        "# dados_ml['preco_fechamento_desejado'] = dados_ml['preco_fechamento_desejado'].apply(np.log1p)\n",
        "dados_ml['qtde_negocio'] = dados_ml['qtde_negocio'].apply(np.log1p)\n",
        "dados_ml['volume_negocio'] = dados_ml['volume_negocio'].apply(np.log1p)\n",
        "# dados_ml['mm5d'] = dados_ml['mm5d'].apply(np.log1p)\n",
        "# dados_ml['mm21d'] = dados_ml['mm21d'].apply(np.log1p)"
      ],
      "execution_count": 25,
      "outputs": []
    },
    {
      "cell_type": "code",
      "metadata": {
        "colab": {
          "base_uri": "https://localhost:8080/",
          "height": 669
        },
        "id": "4xS2I41IeZ_G",
        "outputId": "51e64586-f50b-4440-df4c-6b2be45f7fba"
      },
      "source": [
        "dados_ml.hist(figsize=(14,8))"
      ],
      "execution_count": 26,
      "outputs": [
        {
          "output_type": "execute_result",
          "data": {
            "text/plain": [
              "array([[<matplotlib.axes._subplots.AxesSubplot object at 0x7f7823103990>,\n",
              "        <matplotlib.axes._subplots.AxesSubplot object at 0x7f7823130d90>,\n",
              "        <matplotlib.axes._subplots.AxesSubplot object at 0x7f78230dab10>],\n",
              "       [<matplotlib.axes._subplots.AxesSubplot object at 0x7f7822bb9810>,\n",
              "        <matplotlib.axes._subplots.AxesSubplot object at 0x7f7822beee90>,\n",
              "        <matplotlib.axes._subplots.AxesSubplot object at 0x7f7822b32550>],\n",
              "       [<matplotlib.axes._subplots.AxesSubplot object at 0x7f7822b67c50>,\n",
              "        <matplotlib.axes._subplots.AxesSubplot object at 0x7f7822b29250>,\n",
              "        <matplotlib.axes._subplots.AxesSubplot object at 0x7f7822b29290>]],\n",
              "      dtype=object)"
            ]
          },
          "metadata": {
            "tags": []
          },
          "execution_count": 26
        },
        {
          "output_type": "display_data",
          "data": {
            "image/png": "[encoded data removed]",
            "text/plain": [
              "<Figure size 1008x576 with 9 Axes>"
            ]
          },
          "metadata": {
            "tags": [],
            "needs_background": "light"
          }
        }
      ]
    },
    {
      "cell_type": "code",
      "metadata": {
        "colab": {
          "base_uri": "https://localhost:8080/",
          "height": 235
        },
        "id": "WqNzkyJevg02",
        "outputId": "fa221e72-5f81-41ed-f0c6-522800e0e359"
      },
      "source": [
        "dados_ml.head()"
      ],
      "execution_count": 27,
      "outputs": [
        {
          "output_type": "execute_result",
          "data": {
            "text/html": [
              "<div>\n",
              "<style scoped>\n",
              "    .dataframe tbody tr th:only-of-type {\n",
              "        vertical-align: middle;\n",
              "    }\n",
              "\n",
              "    .dataframe tbody tr th {\n",
              "        vertical-align: top;\n",
              "    }\n",
              "\n",
              "    .dataframe thead th {\n",
              "        text-align: right;\n",
              "    }\n",
              "</style>\n",
              "<table border=\"1\" class=\"dataframe\">\n",
              "  <thead>\n",
              "    <tr style=\"text-align: right;\">\n",
              "      <th></th>\n",
              "      <th>preco_abertura</th>\n",
              "      <th>preco_max</th>\n",
              "      <th>preco_min</th>\n",
              "      <th>preco_fechamento</th>\n",
              "      <th>qtde_negocio</th>\n",
              "      <th>volume_negocio</th>\n",
              "      <th>mm5d</th>\n",
              "      <th>mm21d</th>\n",
              "    </tr>\n",
              "    <tr>\n",
              "      <th>data_do_pregao</th>\n",
              "      <th></th>\n",
              "      <th></th>\n",
              "      <th></th>\n",
              "      <th></th>\n",
              "      <th></th>\n",
              "      <th></th>\n",
              "      <th></th>\n",
              "      <th></th>\n",
              "    </tr>\n",
              "  </thead>\n",
              "  <tbody>\n",
              "    <tr>\n",
              "      <th>2020-01-20</th>\n",
              "      <td>3360.0</td>\n",
              "      <td>3360.0</td>\n",
              "      <td>3298.0</td>\n",
              "      <td>3191.0</td>\n",
              "      <td>13.936046</td>\n",
              "      <td>22.040815</td>\n",
              "      <td>3300.2</td>\n",
              "      <td>3450.285714</td>\n",
              "    </tr>\n",
              "    <tr>\n",
              "      <th>2020-01-21</th>\n",
              "      <td>3300.0</td>\n",
              "      <td>3300.0</td>\n",
              "      <td>3191.0</td>\n",
              "      <td>3218.0</td>\n",
              "      <td>14.871737</td>\n",
              "      <td>22.954668</td>\n",
              "      <td>3276.0</td>\n",
              "      <td>3433.476190</td>\n",
              "    </tr>\n",
              "    <tr>\n",
              "      <th>2020-01-22</th>\n",
              "      <td>3228.0</td>\n",
              "      <td>3248.0</td>\n",
              "      <td>3181.0</td>\n",
              "      <td>3305.0</td>\n",
              "      <td>14.263141</td>\n",
              "      <td>22.335858</td>\n",
              "      <td>3272.4</td>\n",
              "      <td>3408.095238</td>\n",
              "    </tr>\n",
              "    <tr>\n",
              "      <th>2020-01-23</th>\n",
              "      <td>3195.0</td>\n",
              "      <td>3320.0</td>\n",
              "      <td>3174.0</td>\n",
              "      <td>3476.0</td>\n",
              "      <td>14.942970</td>\n",
              "      <td>23.036379</td>\n",
              "      <td>3275.6</td>\n",
              "      <td>3399.428571</td>\n",
              "    </tr>\n",
              "    <tr>\n",
              "      <th>2020-01-14</th>\n",
              "      <td>3483.0</td>\n",
              "      <td>3485.0</td>\n",
              "      <td>3434.0</td>\n",
              "      <td>3415.0</td>\n",
              "      <td>16.470954</td>\n",
              "      <td>24.618991</td>\n",
              "      <td>3299.2</td>\n",
              "      <td>3386.333333</td>\n",
              "    </tr>\n",
              "  </tbody>\n",
              "</table>\n",
              "</div>"
            ],
            "text/plain": [
              "                preco_abertura  preco_max  ...    mm5d        mm21d\n",
              "data_do_pregao                             ...                     \n",
              "2020-01-20              3360.0     3360.0  ...  3300.2  3450.285714\n",
              "2020-01-21              3300.0     3300.0  ...  3276.0  3433.476190\n",
              "2020-01-22              3228.0     3248.0  ...  3272.4  3408.095238\n",
              "2020-01-23              3195.0     3320.0  ...  3275.6  3399.428571\n",
              "2020-01-14              3483.0     3485.0  ...  3299.2  3386.333333\n",
              "\n",
              "[5 rows x 8 columns]"
            ]
          },
          "metadata": {
            "tags": []
          },
          "execution_count": 27
        }
      ]
    },
    {
      "cell_type": "code",
      "metadata": {
        "colab": {
          "base_uri": "https://localhost:8080/",
          "height": 297
        },
        "id": "rnpdqMMmvslN",
        "outputId": "dc03286b-8d33-43e0-b0e7-cbefcc049054"
      },
      "source": [
        "dados_ml.describe().T"
      ],
      "execution_count": 28,
      "outputs": [
        {
          "output_type": "execute_result",
          "data": {
            "text/html": [
              "<div>\n",
              "<style scoped>\n",
              "    .dataframe tbody tr th:only-of-type {\n",
              "        vertical-align: middle;\n",
              "    }\n",
              "\n",
              "    .dataframe tbody tr th {\n",
              "        vertical-align: top;\n",
              "    }\n",
              "\n",
              "    .dataframe thead th {\n",
              "        text-align: right;\n",
              "    }\n",
              "</style>\n",
              "<table border=\"1\" class=\"dataframe\">\n",
              "  <thead>\n",
              "    <tr style=\"text-align: right;\">\n",
              "      <th></th>\n",
              "      <th>count</th>\n",
              "      <th>mean</th>\n",
              "      <th>std</th>\n",
              "      <th>min</th>\n",
              "      <th>25%</th>\n",
              "      <th>50%</th>\n",
              "      <th>75%</th>\n",
              "      <th>max</th>\n",
              "    </tr>\n",
              "  </thead>\n",
              "  <tbody>\n",
              "    <tr>\n",
              "      <th>preco_abertura</th>\n",
              "      <td>477.0</td>\n",
              "      <td>2247.683438</td>\n",
              "      <td>455.693343</td>\n",
              "      <td>1552.000000</td>\n",
              "      <td>1950.000000</td>\n",
              "      <td>2106.000000</td>\n",
              "      <td>2380.000000</td>\n",
              "      <td>3526.000000</td>\n",
              "    </tr>\n",
              "    <tr>\n",
              "      <th>preco_max</th>\n",
              "      <td>477.0</td>\n",
              "      <td>2287.213836</td>\n",
              "      <td>455.344929</td>\n",
              "      <td>1629.000000</td>\n",
              "      <td>1983.000000</td>\n",
              "      <td>2141.000000</td>\n",
              "      <td>2430.000000</td>\n",
              "      <td>3556.000000</td>\n",
              "    </tr>\n",
              "    <tr>\n",
              "      <th>preco_min</th>\n",
              "      <td>477.0</td>\n",
              "      <td>2203.345912</td>\n",
              "      <td>454.368844</td>\n",
              "      <td>1502.000000</td>\n",
              "      <td>1910.000000</td>\n",
              "      <td>2070.000000</td>\n",
              "      <td>2319.000000</td>\n",
              "      <td>3478.000000</td>\n",
              "    </tr>\n",
              "    <tr>\n",
              "      <th>preco_fechamento</th>\n",
              "      <td>477.0</td>\n",
              "      <td>2239.748428</td>\n",
              "      <td>451.611219</td>\n",
              "      <td>1568.000000</td>\n",
              "      <td>1943.000000</td>\n",
              "      <td>2091.000000</td>\n",
              "      <td>2374.000000</td>\n",
              "      <td>3545.000000</td>\n",
              "    </tr>\n",
              "    <tr>\n",
              "      <th>qtde_negocio</th>\n",
              "      <td>477.0</td>\n",
              "      <td>16.490421</td>\n",
              "      <td>1.101395</td>\n",
              "      <td>13.936046</td>\n",
              "      <td>15.494064</td>\n",
              "      <td>16.472506</td>\n",
              "      <td>17.505457</td>\n",
              "      <td>18.726759</td>\n",
              "    </tr>\n",
              "    <tr>\n",
              "      <th>volume_negocio</th>\n",
              "      <td>477.0</td>\n",
              "      <td>24.188256</td>\n",
              "      <td>1.125763</td>\n",
              "      <td>21.970048</td>\n",
              "      <td>23.081429</td>\n",
              "      <td>24.455708</td>\n",
              "      <td>25.204357</td>\n",
              "      <td>26.510086</td>\n",
              "    </tr>\n",
              "    <tr>\n",
              "      <th>mm5d</th>\n",
              "      <td>477.0</td>\n",
              "      <td>2243.262055</td>\n",
              "      <td>446.513099</td>\n",
              "      <td>1601.000000</td>\n",
              "      <td>1958.400000</td>\n",
              "      <td>2087.400000</td>\n",
              "      <td>2388.200000</td>\n",
              "      <td>3475.200000</td>\n",
              "    </tr>\n",
              "    <tr>\n",
              "      <th>mm21d</th>\n",
              "      <td>477.0</td>\n",
              "      <td>2257.461416</td>\n",
              "      <td>455.264223</td>\n",
              "      <td>1689.380952</td>\n",
              "      <td>1992.571429</td>\n",
              "      <td>2075.238095</td>\n",
              "      <td>2369.333333</td>\n",
              "      <td>3450.285714</td>\n",
              "    </tr>\n",
              "  </tbody>\n",
              "</table>\n",
              "</div>"
            ],
            "text/plain": [
              "                  count         mean  ...          75%          max\n",
              "preco_abertura    477.0  2247.683438  ...  2380.000000  3526.000000\n",
              "preco_max         477.0  2287.213836  ...  2430.000000  3556.000000\n",
              "preco_min         477.0  2203.345912  ...  2319.000000  3478.000000\n",
              "preco_fechamento  477.0  2239.748428  ...  2374.000000  3545.000000\n",
              "qtde_negocio      477.0    16.490421  ...    17.505457    18.726759\n",
              "volume_negocio    477.0    24.188256  ...    25.204357    26.510086\n",
              "mm5d              477.0  2243.262055  ...  2388.200000  3475.200000\n",
              "mm21d             477.0  2257.461416  ...  2369.333333  3450.285714\n",
              "\n",
              "[8 rows x 8 columns]"
            ]
          },
          "metadata": {
            "tags": []
          },
          "execution_count": 28
        }
      ]
    },
    {
      "cell_type": "markdown",
      "metadata": {
        "id": "Jagv8MQY0TZB"
      },
      "source": [
        "## Separando as amostras de treino e teste."
      ]
    },
    {
      "cell_type": "code",
      "metadata": {
        "id": "oxI0ao-gOOAI"
      },
      "source": [
        "X = dados_ml.drop(columns=['preco_fechamento'],axis=1)\n",
        "Y = dados_ml['preco_fechamento']"
      ],
      "execution_count": 29,
      "outputs": []
    },
    {
      "cell_type": "code",
      "metadata": {
        "id": "gMD5eYaANGTY"
      },
      "source": [
        "from sklearn.model_selection import train_test_split"
      ],
      "execution_count": 30,
      "outputs": []
    },
    {
      "cell_type": "code",
      "metadata": {
        "id": "zX_O1ThZ-dm6"
      },
      "source": [
        "X_treino, X_teste, Y_treino, Y_teste = train_test_split(X,Y,test_size=0.20, random_state = 123, shuffle = False)"
      ],
      "execution_count": 31,
      "outputs": []
    },
    {
      "cell_type": "code",
      "metadata": {
        "colab": {
          "base_uri": "https://localhost:8080/",
          "height": 235
        },
        "id": "98b1W6lT3xN-",
        "outputId": "479366d5-5255-477c-bf79-3d220fd2c241"
      },
      "source": [
        "X_treino.tail()"
      ],
      "execution_count": 32,
      "outputs": [
        {
          "output_type": "execute_result",
          "data": {
            "text/html": [
              "<div>\n",
              "<style scoped>\n",
              "    .dataframe tbody tr th:only-of-type {\n",
              "        vertical-align: middle;\n",
              "    }\n",
              "\n",
              "    .dataframe tbody tr th {\n",
              "        vertical-align: top;\n",
              "    }\n",
              "\n",
              "    .dataframe thead th {\n",
              "        text-align: right;\n",
              "    }\n",
              "</style>\n",
              "<table border=\"1\" class=\"dataframe\">\n",
              "  <thead>\n",
              "    <tr style=\"text-align: right;\">\n",
              "      <th></th>\n",
              "      <th>preco_abertura</th>\n",
              "      <th>preco_max</th>\n",
              "      <th>preco_min</th>\n",
              "      <th>qtde_negocio</th>\n",
              "      <th>volume_negocio</th>\n",
              "      <th>mm5d</th>\n",
              "      <th>mm21d</th>\n",
              "    </tr>\n",
              "    <tr>\n",
              "      <th>data_do_pregao</th>\n",
              "      <th></th>\n",
              "      <th></th>\n",
              "      <th></th>\n",
              "      <th></th>\n",
              "      <th></th>\n",
              "      <th></th>\n",
              "      <th></th>\n",
              "    </tr>\n",
              "  </thead>\n",
              "  <tbody>\n",
              "    <tr>\n",
              "      <th>2020-10-14</th>\n",
              "      <td>2093.0</td>\n",
              "      <td>2107.0</td>\n",
              "      <td>2082.0</td>\n",
              "      <td>17.171739</td>\n",
              "      <td>24.818382</td>\n",
              "      <td>2055.4</td>\n",
              "      <td>1959.380952</td>\n",
              "    </tr>\n",
              "    <tr>\n",
              "      <th>2020-10-15</th>\n",
              "      <td>2057.0</td>\n",
              "      <td>2106.0</td>\n",
              "      <td>2048.0</td>\n",
              "      <td>17.343053</td>\n",
              "      <td>24.983714</td>\n",
              "      <td>2077.4</td>\n",
              "      <td>1963.952381</td>\n",
              "    </tr>\n",
              "    <tr>\n",
              "      <th>2020-10-16</th>\n",
              "      <td>2065.0</td>\n",
              "      <td>2067.0</td>\n",
              "      <td>2033.0</td>\n",
              "      <td>16.974297</td>\n",
              "      <td>24.599062</td>\n",
              "      <td>2071.0</td>\n",
              "      <td>1966.857143</td>\n",
              "    </tr>\n",
              "    <tr>\n",
              "      <th>2020-10-19</th>\n",
              "      <td>2049.0</td>\n",
              "      <td>2107.0</td>\n",
              "      <td>2031.0</td>\n",
              "      <td>17.764020</td>\n",
              "      <td>25.400924</td>\n",
              "      <td>2068.4</td>\n",
              "      <td>1973.333333</td>\n",
              "    </tr>\n",
              "    <tr>\n",
              "      <th>2020-10-20</th>\n",
              "      <td>1901.0</td>\n",
              "      <td>1974.0</td>\n",
              "      <td>1901.0</td>\n",
              "      <td>15.726622</td>\n",
              "      <td>23.306954</td>\n",
              "      <td>2043.0</td>\n",
              "      <td>1974.190476</td>\n",
              "    </tr>\n",
              "  </tbody>\n",
              "</table>\n",
              "</div>"
            ],
            "text/plain": [
              "                preco_abertura  preco_max  ...    mm5d        mm21d\n",
              "data_do_pregao                             ...                     \n",
              "2020-10-14              2093.0     2107.0  ...  2055.4  1959.380952\n",
              "2020-10-15              2057.0     2106.0  ...  2077.4  1963.952381\n",
              "2020-10-16              2065.0     2067.0  ...  2071.0  1966.857143\n",
              "2020-10-19              2049.0     2107.0  ...  2068.4  1973.333333\n",
              "2020-10-20              1901.0     1974.0  ...  2043.0  1974.190476\n",
              "\n",
              "[5 rows x 7 columns]"
            ]
          },
          "metadata": {
            "tags": []
          },
          "execution_count": 32
        }
      ]
    },
    {
      "cell_type": "code",
      "metadata": {
        "colab": {
          "base_uri": "https://localhost:8080/",
          "height": 235
        },
        "id": "0aRvB7IK3xRG",
        "outputId": "0f1bf160-b87a-4030-d423-e9ad0eae0fd9"
      },
      "source": [
        "X_teste.head()"
      ],
      "execution_count": 33,
      "outputs": [
        {
          "output_type": "execute_result",
          "data": {
            "text/html": [
              "<div>\n",
              "<style scoped>\n",
              "    .dataframe tbody tr th:only-of-type {\n",
              "        vertical-align: middle;\n",
              "    }\n",
              "\n",
              "    .dataframe tbody tr th {\n",
              "        vertical-align: top;\n",
              "    }\n",
              "\n",
              "    .dataframe thead th {\n",
              "        text-align: right;\n",
              "    }\n",
              "</style>\n",
              "<table border=\"1\" class=\"dataframe\">\n",
              "  <thead>\n",
              "    <tr style=\"text-align: right;\">\n",
              "      <th></th>\n",
              "      <th>preco_abertura</th>\n",
              "      <th>preco_max</th>\n",
              "      <th>preco_min</th>\n",
              "      <th>qtde_negocio</th>\n",
              "      <th>volume_negocio</th>\n",
              "      <th>mm5d</th>\n",
              "      <th>mm21d</th>\n",
              "    </tr>\n",
              "    <tr>\n",
              "      <th>data_do_pregao</th>\n",
              "      <th></th>\n",
              "      <th></th>\n",
              "      <th></th>\n",
              "      <th></th>\n",
              "      <th></th>\n",
              "      <th></th>\n",
              "      <th></th>\n",
              "    </tr>\n",
              "  </thead>\n",
              "  <tbody>\n",
              "    <tr>\n",
              "      <th>2020-10-21</th>\n",
              "      <td>1963.0</td>\n",
              "      <td>2005.0</td>\n",
              "      <td>1941.0</td>\n",
              "      <td>15.630596</td>\n",
              "      <td>23.225282</td>\n",
              "      <td>2020.8</td>\n",
              "      <td>1975.476190</td>\n",
              "    </tr>\n",
              "    <tr>\n",
              "      <th>2020-10-22</th>\n",
              "      <td>1980.0</td>\n",
              "      <td>2065.0</td>\n",
              "      <td>1973.0</td>\n",
              "      <td>15.915759</td>\n",
              "      <td>23.532713</td>\n",
              "      <td>2014.8</td>\n",
              "      <td>1979.285714</td>\n",
              "    </tr>\n",
              "    <tr>\n",
              "      <th>2020-10-23</th>\n",
              "      <td>2045.0</td>\n",
              "      <td>2101.0</td>\n",
              "      <td>2030.0</td>\n",
              "      <td>15.596007</td>\n",
              "      <td>23.226236</td>\n",
              "      <td>2016.2</td>\n",
              "      <td>1981.571429</td>\n",
              "    </tr>\n",
              "    <tr>\n",
              "      <th>2020-10-26</th>\n",
              "      <td>2038.0</td>\n",
              "      <td>2069.0</td>\n",
              "      <td>2017.0</td>\n",
              "      <td>15.343088</td>\n",
              "      <td>22.969098</td>\n",
              "      <td>2016.6</td>\n",
              "      <td>1985.285714</td>\n",
              "    </tr>\n",
              "    <tr>\n",
              "      <th>2020-10-27</th>\n",
              "      <td>2085.0</td>\n",
              "      <td>2108.0</td>\n",
              "      <td>1996.0</td>\n",
              "      <td>15.802755</td>\n",
              "      <td>23.420080</td>\n",
              "      <td>2026.8</td>\n",
              "      <td>1994.476190</td>\n",
              "    </tr>\n",
              "  </tbody>\n",
              "</table>\n",
              "</div>"
            ],
            "text/plain": [
              "                preco_abertura  preco_max  ...    mm5d        mm21d\n",
              "data_do_pregao                             ...                     \n",
              "2020-10-21              1963.0     2005.0  ...  2020.8  1975.476190\n",
              "2020-10-22              1980.0     2065.0  ...  2014.8  1979.285714\n",
              "2020-10-23              2045.0     2101.0  ...  2016.2  1981.571429\n",
              "2020-10-26              2038.0     2069.0  ...  2016.6  1985.285714\n",
              "2020-10-27              2085.0     2108.0  ...  2026.8  1994.476190\n",
              "\n",
              "[5 rows x 7 columns]"
            ]
          },
          "metadata": {
            "tags": []
          },
          "execution_count": 33
        }
      ]
    },
    {
      "cell_type": "code",
      "metadata": {
        "id": "yiucTSw6MztF"
      },
      "source": [
        "from sklearn.linear_model import LinearRegression"
      ],
      "execution_count": 34,
      "outputs": []
    },
    {
      "cell_type": "code",
      "metadata": {
        "id": "2BtTJY0OP1CP"
      },
      "source": [
        "lr = LinearRegression()"
      ],
      "execution_count": 35,
      "outputs": []
    },
    {
      "cell_type": "code",
      "metadata": {
        "colab": {
          "base_uri": "https://localhost:8080/"
        },
        "id": "w-jFWTPh-1T0",
        "outputId": "a4689b98-2efd-4b88-a67b-3fa82491be66"
      },
      "source": [
        "lr.fit(X_treino, Y_treino)\n",
        "y_pred= lr.predict(X_teste)\n",
        "lr.score(X_treino,Y_treino)"
      ],
      "execution_count": 36,
      "outputs": [
        {
          "output_type": "execute_result",
          "data": {
            "text/plain": [
              "0.9489953661718439"
            ]
          },
          "metadata": {
            "tags": []
          },
          "execution_count": 36
        }
      ]
    },
    {
      "cell_type": "code",
      "metadata": {
        "id": "jfR0GZ6VMqUl"
      },
      "source": [
        "from sklearn.metrics import mean_absolute_error, mean_squared_error, r2_score"
      ],
      "execution_count": 37,
      "outputs": []
    },
    {
      "cell_type": "code",
      "metadata": {
        "colab": {
          "base_uri": "https://localhost:8080/"
        },
        "id": "nVC3_83W_D4L",
        "outputId": "853a60cd-9f07-4987-8202-7dd977ef0c93"
      },
      "source": [
        "MAE  = mean_absolute_error(Y_teste,y_pred)\n",
        "MSE  = mean_squared_error(Y_teste,y_pred)\n",
        "RMSE = np.sqrt(mean_squared_error(Y_teste,y_pred))\n",
        "R2 = r2_score(Y_teste, y_pred)\n",
        "\n",
        "print('MAE = {:0.4f}'.format(MAE))\n",
        "print('MSE = {:0.4f}'.format(MSE))\n",
        "print('RMSE = {:0.4f}'.format(RMSE))\n",
        "print('R2 = {:0.4f}'.format(R2))"
      ],
      "execution_count": 38,
      "outputs": [
        {
          "output_type": "stream",
          "text": [
            "MAE = 83.9698\n",
            "MSE = 12198.9298\n",
            "RMSE = 110.4488\n",
            "R2 = 0.7831\n"
          ],
          "name": "stdout"
        }
      ]
    },
    {
      "cell_type": "code",
      "metadata": {
        "id": "fO-QSSCOBJbW"
      },
      "source": [
        "df = Y_teste.reset_index()"
      ],
      "execution_count": 39,
      "outputs": []
    },
    {
      "cell_type": "code",
      "metadata": {
        "id": "3c8bRUfsBJ4i"
      },
      "source": [
        "df['previsao'] = y_pred"
      ],
      "execution_count": 40,
      "outputs": []
    },
    {
      "cell_type": "code",
      "metadata": {
        "id": "dtsDZ73aBfbY"
      },
      "source": [
        "df = df.set_index('data_do_pregao')"
      ],
      "execution_count": 41,
      "outputs": []
    },
    {
      "cell_type": "code",
      "metadata": {
        "id": "gNzzudz9WKal"
      },
      "source": [
        "df['preco_fechamento'] = df['preco_fechamento'].shift(+1)"
      ],
      "execution_count": 50,
      "outputs": []
    },
    {
      "cell_type": "code",
      "metadata": {
        "colab": {
          "base_uri": "https://localhost:8080/",
          "height": 390
        },
        "id": "bSGVs-UCDnAG",
        "outputId": "7512c7ee-dcc0-44e0-a9f6-75c36b1251ee"
      },
      "source": [
        "df.head(10)"
      ],
      "execution_count": 51,
      "outputs": [
        {
          "output_type": "execute_result",
          "data": {
            "text/html": [
              "<div>\n",
              "<style scoped>\n",
              "    .dataframe tbody tr th:only-of-type {\n",
              "        vertical-align: middle;\n",
              "    }\n",
              "\n",
              "    .dataframe tbody tr th {\n",
              "        vertical-align: top;\n",
              "    }\n",
              "\n",
              "    .dataframe thead th {\n",
              "        text-align: right;\n",
              "    }\n",
              "</style>\n",
              "<table border=\"1\" class=\"dataframe\">\n",
              "  <thead>\n",
              "    <tr style=\"text-align: right;\">\n",
              "      <th></th>\n",
              "      <th>preco_fechamento</th>\n",
              "      <th>previsao</th>\n",
              "    </tr>\n",
              "    <tr>\n",
              "      <th>data_do_pregao</th>\n",
              "      <th></th>\n",
              "      <th></th>\n",
              "    </tr>\n",
              "  </thead>\n",
              "  <tbody>\n",
              "    <tr>\n",
              "      <th>2020-10-21</th>\n",
              "      <td>NaN</td>\n",
              "      <td>1961.010157</td>\n",
              "    </tr>\n",
              "    <tr>\n",
              "      <th>2020-10-22</th>\n",
              "      <td>2044.0</td>\n",
              "      <td>2012.579340</td>\n",
              "    </tr>\n",
              "    <tr>\n",
              "      <th>2020-10-23</th>\n",
              "      <td>2040.0</td>\n",
              "      <td>2052.407623</td>\n",
              "    </tr>\n",
              "    <tr>\n",
              "      <th>2020-10-26</th>\n",
              "      <td>2063.0</td>\n",
              "      <td>2023.548860</td>\n",
              "    </tr>\n",
              "    <tr>\n",
              "      <th>2020-10-27</th>\n",
              "      <td>2010.0</td>\n",
              "      <td>1996.055177</td>\n",
              "    </tr>\n",
              "    <tr>\n",
              "      <th>2020-10-28</th>\n",
              "      <td>1889.0</td>\n",
              "      <td>1903.401992</td>\n",
              "    </tr>\n",
              "    <tr>\n",
              "      <th>2020-10-20</th>\n",
              "      <td>2150.0</td>\n",
              "      <td>2107.619738</td>\n",
              "    </tr>\n",
              "    <tr>\n",
              "      <th>2020-10-21</th>\n",
              "      <td>2172.0</td>\n",
              "      <td>2120.599725</td>\n",
              "    </tr>\n",
              "    <tr>\n",
              "      <th>2020-10-22</th>\n",
              "      <td>2272.0</td>\n",
              "      <td>2195.301690</td>\n",
              "    </tr>\n",
              "    <tr>\n",
              "      <th>2020-10-23</th>\n",
              "      <td>2262.0</td>\n",
              "      <td>2220.589631</td>\n",
              "    </tr>\n",
              "  </tbody>\n",
              "</table>\n",
              "</div>"
            ],
            "text/plain": [
              "                preco_fechamento     previsao\n",
              "data_do_pregao                               \n",
              "2020-10-21                   NaN  1961.010157\n",
              "2020-10-22                2044.0  2012.579340\n",
              "2020-10-23                2040.0  2052.407623\n",
              "2020-10-26                2063.0  2023.548860\n",
              "2020-10-27                2010.0  1996.055177\n",
              "2020-10-28                1889.0  1903.401992\n",
              "2020-10-20                2150.0  2107.619738\n",
              "2020-10-21                2172.0  2120.599725\n",
              "2020-10-22                2272.0  2195.301690\n",
              "2020-10-23                2262.0  2220.589631"
            ]
          },
          "metadata": {
            "tags": []
          },
          "execution_count": 51
        }
      ]
    },
    {
      "cell_type": "code",
      "metadata": {
        "colab": {
          "base_uri": "https://localhost:8080/",
          "height": 515
        },
        "id": "acaxx0cSP9i7",
        "outputId": "6ed58d66-51eb-43ff-9d69-d8fa5f751726"
      },
      "source": [
        "plt.figure(figsize=(15,8))\n",
        "\n",
        "df['preco_fechamento'].plot( label=\"real\", color='blue', marker='o')\n",
        "df['previsao'].plot(label=\"previsão\", color='red',marker='o')\n",
        "plt.title(' Valor real x Valor')\n"
      ],
      "execution_count": 52,
      "outputs": [
        {
          "output_type": "execute_result",
          "data": {
            "text/plain": [
              "Text(0.5, 1.0, ' Valor real x Valor')"
            ]
          },
          "metadata": {
            "tags": []
          },
          "execution_count": 52
        },
        {
          "output_type": "display_data",
          "data": {
            "image/png": "[encoded data removed]",
            "text/plain": [
              "<Figure size 1080x576 with 1 Axes>"
            ]
          },
          "metadata": {
            "tags": [],
            "needs_background": "light"
          }
        }
      ]
    },
    {
      "cell_type": "markdown",
      "metadata": {
        "id": "AumBxa2jD1gQ"
      },
      "source": [
        "## Treinado com outros modelos."
      ]
    },
    {
      "cell_type": "code",
      "metadata": {
        "colab": {
          "base_uri": "https://localhost:8080/"
        },
        "id": "vsYvWWZGSsft",
        "outputId": "69ab89e4-01cb-4754-dd57-a0f65a89d8dd"
      },
      "source": [
        "from sklearn.tree import DecisionTreeRegressor\n",
        "from sklearn.ensemble import RandomForestRegressor\n",
        "from sklearn.neural_network import MLPRegressor\n",
        "from xgboost import XGBRegressor\n",
        "\n",
        "\n",
        "regressor_list = [\n",
        "                  DecisionTreeRegressor(),\n",
        "                  RandomForestRegressor(),\n",
        "                  MLPRegressor(),\n",
        "                  XGBRegressor(),\n",
        "           \n",
        "                  ]\n",
        "\n",
        "for reg in regressor_list:\n",
        "  print('Treinando', reg.__class__.__name__)\n",
        "  reg.fit(X_treino, Y_treino)\n",
        "  train_score = reg.score(X_treino, Y_treino)\n",
        "  test_score = reg.score(X_teste, Y_teste)\n",
        "  print('Train score', train_score)\n",
        "  print('Test score', test_score)\n",
        "  print('='*80)"
      ],
      "execution_count": 44,
      "outputs": [
        {
          "output_type": "stream",
          "text": [
            "Treinando DecisionTreeRegressor\n",
            "Train score 1.0\n",
            "Test score -0.10637319175086768\n",
            "================================================================================\n",
            "Treinando RandomForestRegressor\n",
            "Train score 0.9895761430303517\n",
            "Test score 0.4453686283983981\n",
            "================================================================================\n",
            "Treinando MLPRegressor\n",
            "Train score 0.9088962297473943\n",
            "Test score 0.7740814941101847\n",
            "================================================================================\n",
            "Treinando XGBRegressor\n",
            "[22:17:44] WARNING: /workspace/src/objective/regression_obj.cu:152: reg:linear is now deprecated in favor of reg:squarederror.\n",
            "Train score 0.9810900894907127\n",
            "Test score 0.25937876897814616\n",
            "================================================================================\n"
          ],
          "name": "stdout"
        }
      ]
    },
    {
      "cell_type": "code",
      "metadata": {
        "colab": {
          "base_uri": "https://localhost:8080/"
        },
        "id": "Ds0EfhS0wayT",
        "outputId": "fa148700-feb7-4128-ca2b-2acd6bebc55c"
      },
      "source": [
        "# repetindo processo com validação cruzada\n",
        "import warnings\n",
        "warnings.filterwarnings(\"ignore\")\n",
        "\n",
        "from sklearn.linear_model import LinearRegression\n",
        "from sklearn.tree import DecisionTreeRegressor\n",
        "from sklearn.ensemble import RandomForestRegressor\n",
        "from sklearn.neural_network import MLPRegressor\n",
        "from xgboost import XGBRegressor\n",
        "from sklearn.model_selection import cross_val_score\n",
        "\n",
        "\n",
        "regressor_list = [LinearRegression(),\n",
        "                  DecisionTreeRegressor(),\n",
        "                  RandomForestRegressor(),\n",
        "                  MLPRegressor(),\n",
        "                  XGBRegressor(),\n",
        "                  ]\n",
        "\n",
        "for reg in regressor_list:\n",
        "  print('Treinando', reg.__class__.__name__)\n",
        "  reg.fit(X_treino, Y_treino)\n",
        "  train_score = reg.score(X_treino, Y_treino)\n",
        "  val_score = cross_val_score(reg, X_treino, Y_treino, cv=5)\n",
        "  test_score = reg.score(X_teste, Y_teste)\n",
        "  print('Train score', train_score)\n",
        "  print('Validation score', val_score.mean())\n",
        "  print('Test score', test_score)\n",
        "  print('='*80)"
      ],
      "execution_count": 45,
      "outputs": [
        {
          "output_type": "stream",
          "text": [
            "Treinando LinearRegression\n",
            "Train score 0.9489953661718439\n",
            "Validation score 0.6333097731374238\n",
            "Test score 0.7831213800721956\n",
            "================================================================================\n",
            "Treinando DecisionTreeRegressor\n",
            "Train score 1.0\n",
            "Validation score -0.6980476791251501\n",
            "Test score -0.07757906613621213\n",
            "================================================================================\n",
            "Treinando RandomForestRegressor\n",
            "Train score 0.9898118536495344\n",
            "Validation score -0.4222060802450886\n",
            "Test score 0.4456553466051603\n",
            "================================================================================\n",
            "Treinando MLPRegressor\n",
            "Train score 0.9352481740589146\n",
            "Validation score 0.3297009676048609\n",
            "Test score 0.7768437409895921\n",
            "================================================================================\n",
            "Treinando XGBRegressor\n",
            "[22:17:47] WARNING: /workspace/src/objective/regression_obj.cu:152: reg:linear is now deprecated in favor of reg:squarederror.\n",
            "[22:17:47] WARNING: /workspace/src/objective/regression_obj.cu:152: reg:linear is now deprecated in favor of reg:squarederror.\n",
            "[22:17:47] WARNING: /workspace/src/objective/regression_obj.cu:152: reg:linear is now deprecated in favor of reg:squarederror.\n",
            "[22:17:47] WARNING: /workspace/src/objective/regression_obj.cu:152: reg:linear is now deprecated in favor of reg:squarederror.\n",
            "[22:17:47] WARNING: /workspace/src/objective/regression_obj.cu:152: reg:linear is now deprecated in favor of reg:squarederror.\n",
            "[22:17:47] WARNING: /workspace/src/objective/regression_obj.cu:152: reg:linear is now deprecated in favor of reg:squarederror.\n",
            "Train score 0.9810900894907127\n",
            "Validation score -0.4075472182530954\n",
            "Test score 0.25937876897814616\n",
            "================================================================================\n"
          ],
          "name": "stdout"
        }
      ]
    },
    {
      "cell_type": "code",
      "metadata": {
        "id": "kIYNV8VUwbNH"
      },
      "source": [
        "from sklearn.model_selection import GridSearchCV\n",
        "rn = MLPRegressor()\n",
        "\n",
        "parameter_space = {\n",
        "        'hidden_layer_sizes': [(i,) for i in list(range(1, 21))],\n",
        "        'activation': ['tanh', 'relu'],\n",
        "        'solver': ['sgd', 'adam', 'lbfgs'], \n",
        "        'alpha': [0.0001, 0.05],\n",
        "        'learning_rate': ['constant', 'adaptive'],\n",
        "    }\n",
        "\n",
        "search = GridSearchCV(rn, parameter_space, n_jobs=-1, cv=5)\n",
        "\n",
        "\n",
        "search.fit(X_treino,Y_treino)\n",
        "clf = search.best_estimator_\n",
        "pred= search.predict(X_teste)"
      ],
      "execution_count": 46,
      "outputs": []
    },
    {
      "cell_type": "code",
      "metadata": {
        "colab": {
          "base_uri": "https://localhost:8080/"
        },
        "id": "UmDgC6TxJhJ-",
        "outputId": "bcddb908-87f0-4814-df09-69d6180e871a"
      },
      "source": [
        "MAE  = mean_absolute_error(Y_teste,pred)\n",
        "MSE  = mean_squared_error(Y_teste,pred)\n",
        "RMSE = np.sqrt(mean_squared_error(Y_teste,pred))\n",
        "R2 = r2_score(Y_teste, pred)\n",
        "\n",
        "print('MAE = {:0.4f}'.format(MAE))\n",
        "print('MSE = {:0.4f}'.format(MSE))\n",
        "print('RMSE = {:0.4f}'.format(RMSE))\n",
        "print('R2 = {:0.4f}'.format(R2))"
      ],
      "execution_count": 47,
      "outputs": [
        {
          "output_type": "stream",
          "text": [
            "MAE = 78.3886\n",
            "MSE = 11356.6372\n",
            "RMSE = 106.5675\n",
            "R2 = 0.7981\n"
          ],
          "name": "stdout"
        }
      ]
    },
    {
      "cell_type": "code",
      "metadata": {
        "colab": {
          "base_uri": "https://localhost:8080/",
          "height": 235
        },
        "id": "T78bdGhvJ8a2",
        "outputId": "ef303e7d-2d6c-4f68-dff9-d8e9ac46bb77"
      },
      "source": [
        "df_rn = Y_teste.reset_index()\n",
        "df_rn['previsao'] = pred\n",
        "\n",
        "df_rn = df_rn.set_index('data_do_pregao')\n",
        "\n",
        "df_rn.head()"
      ],
      "execution_count": 48,
      "outputs": [
        {
          "output_type": "execute_result",
          "data": {
            "text/html": [
              "<div>\n",
              "<style scoped>\n",
              "    .dataframe tbody tr th:only-of-type {\n",
              "        vertical-align: middle;\n",
              "    }\n",
              "\n",
              "    .dataframe tbody tr th {\n",
              "        vertical-align: top;\n",
              "    }\n",
              "\n",
              "    .dataframe thead th {\n",
              "        text-align: right;\n",
              "    }\n",
              "</style>\n",
              "<table border=\"1\" class=\"dataframe\">\n",
              "  <thead>\n",
              "    <tr style=\"text-align: right;\">\n",
              "      <th></th>\n",
              "      <th>preco_fechamento</th>\n",
              "      <th>previsao</th>\n",
              "    </tr>\n",
              "    <tr>\n",
              "      <th>data_do_pregao</th>\n",
              "      <th></th>\n",
              "      <th></th>\n",
              "    </tr>\n",
              "  </thead>\n",
              "  <tbody>\n",
              "    <tr>\n",
              "      <th>2020-10-21</th>\n",
              "      <td>2044.0</td>\n",
              "      <td>1957.083737</td>\n",
              "    </tr>\n",
              "    <tr>\n",
              "      <th>2020-10-22</th>\n",
              "      <td>2040.0</td>\n",
              "      <td>2021.916770</td>\n",
              "    </tr>\n",
              "    <tr>\n",
              "      <th>2020-10-23</th>\n",
              "      <td>2063.0</td>\n",
              "      <td>2054.799874</td>\n",
              "    </tr>\n",
              "    <tr>\n",
              "      <th>2020-10-26</th>\n",
              "      <td>2010.0</td>\n",
              "      <td>2038.589691</td>\n",
              "    </tr>\n",
              "    <tr>\n",
              "      <th>2020-10-27</th>\n",
              "      <td>1889.0</td>\n",
              "      <td>2017.514298</td>\n",
              "    </tr>\n",
              "  </tbody>\n",
              "</table>\n",
              "</div>"
            ],
            "text/plain": [
              "                preco_fechamento     previsao\n",
              "data_do_pregao                               \n",
              "2020-10-21                2044.0  1957.083737\n",
              "2020-10-22                2040.0  2021.916770\n",
              "2020-10-23                2063.0  2054.799874\n",
              "2020-10-26                2010.0  2038.589691\n",
              "2020-10-27                1889.0  2017.514298"
            ]
          },
          "metadata": {
            "tags": []
          },
          "execution_count": 48
        }
      ]
    },
    {
      "cell_type": "code",
      "metadata": {
        "colab": {
          "base_uri": "https://localhost:8080/",
          "height": 235
        },
        "id": "xuxnMLLgWdAf",
        "outputId": "5a35132b-d8a0-4e00-959c-e87648600dfc"
      },
      "source": [
        "df_rn['preco_fechamento'] = df_rn['preco_fechamento'].shift(+1)\n",
        "df_rn.head()"
      ],
      "execution_count": 53,
      "outputs": [
        {
          "output_type": "execute_result",
          "data": {
            "text/html": [
              "<div>\n",
              "<style scoped>\n",
              "    .dataframe tbody tr th:only-of-type {\n",
              "        vertical-align: middle;\n",
              "    }\n",
              "\n",
              "    .dataframe tbody tr th {\n",
              "        vertical-align: top;\n",
              "    }\n",
              "\n",
              "    .dataframe thead th {\n",
              "        text-align: right;\n",
              "    }\n",
              "</style>\n",
              "<table border=\"1\" class=\"dataframe\">\n",
              "  <thead>\n",
              "    <tr style=\"text-align: right;\">\n",
              "      <th></th>\n",
              "      <th>preco_fechamento</th>\n",
              "      <th>previsao</th>\n",
              "    </tr>\n",
              "    <tr>\n",
              "      <th>data_do_pregao</th>\n",
              "      <th></th>\n",
              "      <th></th>\n",
              "    </tr>\n",
              "  </thead>\n",
              "  <tbody>\n",
              "    <tr>\n",
              "      <th>2020-10-21</th>\n",
              "      <td>NaN</td>\n",
              "      <td>1957.083737</td>\n",
              "    </tr>\n",
              "    <tr>\n",
              "      <th>2020-10-22</th>\n",
              "      <td>2044.0</td>\n",
              "      <td>2021.916770</td>\n",
              "    </tr>\n",
              "    <tr>\n",
              "      <th>2020-10-23</th>\n",
              "      <td>2040.0</td>\n",
              "      <td>2054.799874</td>\n",
              "    </tr>\n",
              "    <tr>\n",
              "      <th>2020-10-26</th>\n",
              "      <td>2063.0</td>\n",
              "      <td>2038.589691</td>\n",
              "    </tr>\n",
              "    <tr>\n",
              "      <th>2020-10-27</th>\n",
              "      <td>2010.0</td>\n",
              "      <td>2017.514298</td>\n",
              "    </tr>\n",
              "  </tbody>\n",
              "</table>\n",
              "</div>"
            ],
            "text/plain": [
              "                preco_fechamento     previsao\n",
              "data_do_pregao                               \n",
              "2020-10-21                   NaN  1957.083737\n",
              "2020-10-22                2044.0  2021.916770\n",
              "2020-10-23                2040.0  2054.799874\n",
              "2020-10-26                2063.0  2038.589691\n",
              "2020-10-27                2010.0  2017.514298"
            ]
          },
          "metadata": {
            "tags": []
          },
          "execution_count": 53
        }
      ]
    },
    {
      "cell_type": "code",
      "metadata": {
        "colab": {
          "base_uri": "https://localhost:8080/",
          "height": 601
        },
        "id": "nFtsXJpTKTQQ",
        "outputId": "f42bf711-7ac5-4548-8e46-ad36a0451299"
      },
      "source": [
        "fig, axes = plt.subplots(1,2,figsize=(25,10))\n",
        "\n",
        "\n",
        "axes[0].set_title('Previsão Linear Regression', fontsize=20)\n",
        "axes[1].set_title('Previsão Redes Neurais',fontsize=20)\n",
        "df['preco_fechamento'].plot(ax=axes[0], label=\"real\", color='blue', marker='o')\n",
        "df['previsao'].plot(ax=axes[0], label=\"previsão\", color='red',marker='o')\n",
        "axes[0].legend()\n",
        "\n",
        "\n",
        "df['preco_fechamento'].plot(ax=axes[1], label=\"real\", color='blue', marker='o')\n",
        "df_rn['previsao'].plot(ax=axes[1], label='previsao_rn', color='red', marker='o')\n",
        "\n",
        "axes[1].legend()\n",
        "plt.show()"
      ],
      "execution_count": 58,
      "outputs": [
        {
          "output_type": "display_data",
          "data": {
            "image/png": "[encoded data removed]",
            "text/plain": [
              "<Figure size 1800x720 with 2 Axes>"
            ]
          },
          "metadata": {
            "tags": [],
            "needs_background": "light"
          }
        }
      ]
    },
    {
      "cell_type": "code",
      "metadata": {
        "id": "peOvL6JIK6m9"
      },
      "source": [
        ""
      ],
      "execution_count": 49,
      "outputs": []
    },
    {
      "cell_type": "code",
      "metadata": {
        "id": "GOGhYKjfQtp2"
      },
      "source": [
        ""
      ],
      "execution_count": 49,
      "outputs": []
    }
  ]
}